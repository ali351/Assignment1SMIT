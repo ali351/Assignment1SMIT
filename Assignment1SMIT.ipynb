{
  "nbformat": 4,
  "nbformat_minor": 0,
  "metadata": {
    "colab": {
      "name": "Assignment1SMIT.ipynb",
      "provenance": [],
      "collapsed_sections": []
    },
    "kernelspec": {
      "name": "python3",
      "display_name": "Python 3"
    }
  },
  "cells": [
    {
      "cell_type": "code",
      "metadata": {
        "id": "iiGC5Ia6sKfK",
        "colab_type": "code",
        "outputId": "20c84b09-08d9-425e-c93f-511a89856603",
        "colab": {
          "base_uri": "https://localhost:8080/",
          "height": 34
        }
      },
      "source": [
        "print (\"HELLO WORLD\")"
      ],
      "execution_count": 0,
      "outputs": [
        {
          "output_type": "stream",
          "text": [
            "HELLO WORLD\n"
          ],
          "name": "stdout"
        }
      ]
    },
    {
      "cell_type": "markdown",
      "metadata": {
        "id": "457UuXBhukDu",
        "colab_type": "text"
      },
      "source": [
        ""
      ]
    },
    {
      "cell_type": "markdown",
      "metadata": {
        "id": "AzngW7v7j0ez",
        "colab_type": "text"
      },
      "source": [
        "### NAME : Muhammad Ali Khan "
      ]
    },
    {
      "cell_type": "markdown",
      "metadata": {
        "id": "ibjnCcJulDCX",
        "colab_type": "text"
      },
      "source": [
        "### Teacher Name : Sir Muhammad Ali Mughal \n",
        "\n",
        "\n"
      ]
    },
    {
      "cell_type": "markdown",
      "metadata": {
        "id": "8zJTJ1rmmN-j",
        "colab_type": "text"
      },
      "source": [
        "### Institute Name : Saylani Head Office \n",
        "\n",
        "---\n",
        "\n"
      ]
    },
    {
      "cell_type": "markdown",
      "metadata": {
        "id": "L2Hz0WUmpXek",
        "colab_type": "text"
      },
      "source": [
        "\n",
        "\n",
        "# ***Python Programming Language***\n",
        "##***Assignment # 1***\n"
      ]
    },
    {
      "cell_type": "code",
      "metadata": {
        "id": "z2ZPwJKBdNwa",
        "colab_type": "code",
        "outputId": "5e876738-3550-4066-9d29-25ae6324e005",
        "colab": {
          "base_uri": "https://localhost:8080/",
          "height": 121
        }
      },
      "source": [
        "#1\n",
        "\n",
        "print (\"Twinkle, Twinkle, little star,\" '\\n' + \"\\t\" + \"How I wonder what you are!\" + '\\n' + \"\\t\" + \"\\t\" + \"Up above the world so high,\" + \"\\n\" + \"\\t\" + \"\\t\" + \"Like a diamond in the sky,\")\n",
        "print (\"Twinkle, Twinkle, little star,\" '\\n' + \"\\t\" + \"How I wonder what you are\")"
      ],
      "execution_count": 0,
      "outputs": [
        {
          "output_type": "stream",
          "text": [
            "Twinkle, Twinkle, little star,\n",
            "\tHow I wonder what you are!\n",
            "\t\tUp above the world so high,\n",
            "\t\tLike a diamond in the sky,\n",
            "Twinkle, Twinkle, little star,\n",
            "\tHow I wonder what you are\n"
          ],
          "name": "stdout"
        }
      ]
    },
    {
      "cell_type": "code",
      "metadata": {
        "id": "Nf-zC4DbeYkm",
        "colab_type": "code",
        "outputId": "cbe7fd6b-59cf-43d9-c5ae-e707f1202394",
        "colab": {
          "base_uri": "https://localhost:8080/",
          "height": 52
        }
      },
      "source": [
        "#2\n",
        "\n",
        "import platform;\n",
        "\n",
        "print(platform.sys.version)"
      ],
      "execution_count": 0,
      "outputs": [
        {
          "output_type": "stream",
          "text": [
            "3.6.8 (default, Oct  7 2019, 12:59:55) \n",
            "[GCC 8.3.0]\n"
          ],
          "name": "stdout"
        }
      ]
    },
    {
      "cell_type": "code",
      "metadata": {
        "id": "uPiSKgV3igxb",
        "colab_type": "code",
        "outputId": "2c0ae12f-f6b1-447c-fa12-9b0d0eb58092",
        "colab": {
          "base_uri": "https://localhost:8080/",
          "height": 34
        }
      },
      "source": [
        "#3\n",
        "\n",
        "from datetime import datetime\n",
        "today = datetime.today()\n",
        "print(\"Today's datetime:\", today)"
      ],
      "execution_count": 0,
      "outputs": [
        {
          "output_type": "stream",
          "text": [
            "Today's datetime: 2019-11-01 06:16:09.251893\n"
          ],
          "name": "stdout"
        }
      ]
    },
    {
      "cell_type": "code",
      "metadata": {
        "id": "Kpq2uBTSpor3",
        "colab_type": "code",
        "outputId": "83205141-d4a2-49ef-eec1-d5605378c7d3",
        "colab": {
          "base_uri": "https://localhost:8080/",
          "height": 51
        }
      },
      "source": [
        "#4\n",
        "\n",
        "radius = float(input(\"Radius = \"))\n",
        "area = 3.142*radius**2\n",
        "print (\"Area = \" , area)"
      ],
      "execution_count": 0,
      "outputs": [
        {
          "output_type": "stream",
          "text": [
            "Radius = 2\n",
            "Area =  12.568\n"
          ],
          "name": "stdout"
        }
      ]
    },
    {
      "cell_type": "code",
      "metadata": {
        "id": "nIYS2Sz0nA0W",
        "colab_type": "code",
        "outputId": "097c8a78-4a58-4782-f0c4-21b5b346ca47",
        "colab": {
          "base_uri": "https://localhost:8080/",
          "height": 68
        }
      },
      "source": [
        "#5\n",
        "\n",
        "first_name = input(\"YOUR FIRST NAME : \")\n",
        "last_name = input(\"YOUR LAST NAME : \")\n",
        "print (last_name  , first_name )"
      ],
      "execution_count": 0,
      "outputs": [
        {
          "output_type": "stream",
          "text": [
            "YOUR FIRST NAME : ali\n",
            "YOUR LAST NAME : khan\n",
            "khan ali\n"
          ],
          "name": "stdout"
        }
      ]
    },
    {
      "cell_type": "code",
      "metadata": {
        "id": "UPhRaEJgprpV",
        "colab_type": "code",
        "outputId": "57fea798-8e2b-4717-84a9-9494c121e738",
        "colab": {
          "base_uri": "https://localhost:8080/",
          "height": 68
        }
      },
      "source": [
        "#6\n",
        "\n",
        "first_number = int(input(\"first number : \"))\n",
        "second_number = int(input(\"second number : \"))\n",
        "addition = first_number + second_number\n",
        "print(addition)"
      ],
      "execution_count": 0,
      "outputs": [
        {
          "output_type": "stream",
          "text": [
            "first number : 2\n",
            "second number : 2\n",
            "4\n"
          ],
          "name": "stdout"
        }
      ]
    },
    {
      "cell_type": "code",
      "metadata": {
        "id": "mlTFR4S8ogt2",
        "colab_type": "code",
        "colab": {}
      },
      "source": [
        ""
      ],
      "execution_count": 0,
      "outputs": []
    }
  ]
}