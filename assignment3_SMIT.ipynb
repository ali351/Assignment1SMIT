{
  "nbformat": 4,
  "nbformat_minor": 0,
  "metadata": {
    "colab": {
      "name": "assignment3 SMIT",
      "provenance": []
    },
    "kernelspec": {
      "name": "python3",
      "display_name": "Python 3"
    }
  },
  "cells": [
    {
      "cell_type": "markdown",
      "metadata": {
        "id": "YAdIno31NEsJ",
        "colab_type": "text"
      },
      "source": [
        "#**NAME : Muhammad Ali Khan**\n",
        "#**Teacher Name : Sir Muhammad Ali Mughal**\n",
        "#**Institute Name : Saylani Head Office**\n",
        "#**Python Programming Language**\n",
        "#**Assignment # 3**"
      ]
    },
    {
      "cell_type": "code",
      "metadata": {
        "id": "53hW12iCMLiG",
        "colab_type": "code",
        "colab": {
          "base_uri": "https://localhost:8080/",
          "height": 86
        },
        "outputId": "1340b403-d093-44a3-d4f3-09d888ea5153"
      },
      "source": [
        "#1\n",
        "\n",
        "No1 = float(input('Enter a Number : '))\n",
        "No2 = float(input('Enter  an other Number : '))\n",
        "operator = input('Enter operation eg (-,+,/,*,**): ')\n",
        "\n",
        "if (operator == '-'):\n",
        "    result = No1 - No2\n",
        "    print(\"Subtraction of \",No1,\" and \",No2,\" is \",result)\n",
        "elif(operator == '+'):\n",
        "    result = No1 + No2\n",
        "    print(\"Addition of \",No1,\" and \",No2,\" is \",result)\n",
        "elif(operator == '/'):\n",
        "    result = No1/No2\n",
        "    print(\"Division of \",No1,\" and \",No2,\" is \",result)\n",
        "elif(operator == '*'):\n",
        "    result = No1* No2\n",
        "    print(\"Multiplication of \",No1,\" and \",No2,\" is \",result)\n",
        "elif(operator == '**'):\n",
        "    result = No1 ** No2\n",
        "    print(No1,\" power \",No2,\" is: \",result)\n",
        "else:\n",
        "    print('Enter correct operator')\n",
        "    "
      ],
      "execution_count": 1,
      "outputs": [
        {
          "output_type": "stream",
          "text": [
            "Enter a Number : 76\n",
            "Enter  an other Number : 78\n",
            "Enter operation eg (-,+,/,*,**): *\n",
            "Multiplication of  76.0  and  78.0  is  5928.0\n"
          ],
          "name": "stdout"
        }
      ]
    },
    {
      "cell_type": "code",
      "metadata": {
        "id": "843FsjgKQisz",
        "colab_type": "code",
        "colab": {
          "base_uri": "https://localhost:8080/",
          "height": 52
        },
        "outputId": "f3d631d8-4106-4b6b-9e0e-93368cb838cc"
      },
      "source": [
        "#2\n",
        "\n",
        "List  = [\"Hello\", \"World\", 234, \"Python\", \"Programming\",False,30,0.331]\n",
        "\n",
        "for i in List:\n",
        "    if type(i) == int:\n",
        "        print(\"Found numeric value: \",i)\n",
        "      "
      ],
      "execution_count": 2,
      "outputs": [
        {
          "output_type": "stream",
          "text": [
            "Found numeric value:  234\n",
            "Found numeric value:  30\n"
          ],
          "name": "stdout"
        }
      ]
    },
    {
      "cell_type": "code",
      "metadata": {
        "id": "8GQgbhXAQ6Uh",
        "colab_type": "code",
        "colab": {
          "base_uri": "https://localhost:8080/",
          "height": 156
        },
        "outputId": "209c0333-dd58-4393-b599-0b60c773e81e"
      },
      "source": [
        "#3A\n",
        "\n",
        "Info = {'Name': 'Asad', 'Age': 23, 'Department': 'BSIT'}\n",
        "\n",
        "print('''Before Update''')\n",
        "print (\"Info['Name']: \", Info['Name'])\n",
        "print (\"Info['Age']: \", Info['Age'])\n",
        "print (\"Info['Department']: \", Info['Department'])\n",
        "\n",
        "print('''After Update''')\n",
        "\n",
        "Info= {'Name': 'Asad', 'Age': 23, 'Department': 'BSIT'}\n",
        "Info['Age'] = 30; # update existing entry\n",
        "Info['School'] = \"KBSAS Campus\" # Add new entry\n",
        "\n",
        "print (\"Info['Name']: \", Info['Name'])\n",
        "print (\"Info['Age']: \", Info['Age'])\n",
        "print (\"Info['School']: \", Info['School'])"
      ],
      "execution_count": 3,
      "outputs": [
        {
          "output_type": "stream",
          "text": [
            "Before Update\n",
            "Info['Name']:  Asad\n",
            "Info['Age']:  23\n",
            "Info['Department']:  BSIT\n",
            "After Update\n",
            "Info['Name']:  Asad\n",
            "Info['Age']:  30\n",
            "Info['School']:  KBSAS Campus\n"
          ],
          "name": "stdout"
        }
      ]
    },
    {
      "cell_type": "code",
      "metadata": {
        "id": "E8zl1xkFRHbO",
        "colab_type": "code",
        "colab": {
          "base_uri": "https://localhost:8080/",
          "height": 86
        },
        "outputId": "d2d83989-73db-4f43-f1d5-4c578864f8d7"
      },
      "source": [
        "##3B\n",
        "\n",
        "print('Before Update.')\n",
        "data = {\"Price1\":291, \"Price2\":485,\"Price3\":645}  \n",
        "print(data)\n",
        "\n",
        "print(\"After Updating of Keys.\")\n",
        "\n",
        "data.update({\"Price4\":258}) #1st Method\n",
        "data['Price5'] = 786  #2nd Method\n",
        "print(data)"
      ],
      "execution_count": 4,
      "outputs": [
        {
          "output_type": "stream",
          "text": [
            "Before Update.\n",
            "{'Price1': 291, 'Price2': 485, 'Price3': 645}\n",
            "After Updating of Keys.\n",
            "{'Price1': 291, 'Price2': 485, 'Price3': 645, 'Price4': 258, 'Price5': 786}\n"
          ],
          "name": "stdout"
        }
      ]
    },
    {
      "cell_type": "code",
      "metadata": {
        "id": "fqIY3vTxRNru",
        "colab_type": "code",
        "colab": {}
      },
      "source": [
        "#4. Write a Python program to sum all the numeric items in a dictionary\n",
        "#5. Write a program to identify duplicate values from list\n",
        "#6. Write a Python script to check if a given key already exists in a dictionary\n",
        "#could not Get!!!"
      ],
      "execution_count": 0,
      "outputs": []
    }
  ]
}