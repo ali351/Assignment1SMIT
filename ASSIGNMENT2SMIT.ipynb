{
  "nbformat": 4,
  "nbformat_minor": 0,
  "metadata": {
    "colab": {
      "name": "ASSIGNMENT2SMIT.ipynb",
      "provenance": [],
      "collapsed_sections": []
    },
    "kernelspec": {
      "name": "python3",
      "display_name": "Python 3"
    }
  },
  "cells": [
    {
      "cell_type": "markdown",
      "metadata": {
        "id": "H57MoH8VLUww",
        "colab_type": "text"
      },
      "source": [
        "#**Assignment # 2**\n",
        "NAME : MUHAMMMAD ALI KHAN \n",
        "\n",
        "TEACHER : SIR MUHAMMAD ALI MUGHAL\n",
        "\n",
        "PROGRAM : PYTHON PROGRAMMING "
      ]
    },
    {
      "cell_type": "code",
      "metadata": {
        "id": "gTj9X7WYMPZF",
        "colab_type": "code",
        "outputId": "f7e31187-cb04-4155-f60c-d4b30c9e74f6",
        "colab": {
          "base_uri": "https://localhost:8080/",
          "height": 238
        }
      },
      "source": [
        "#1 \n",
        "print(\"SUBJECT               |            TOTAL MARKS          |         OBTAINED MARKS \")\n",
        "print(\"-------------------------------------------------------------------------------------------------\")\n",
        "\n",
        "math = float(input(\"Mathematics           |               100               |               \"))\n",
        "phy = float(input(\"Physics               |               100               |               \"))\n",
        "eng = float(input(\"English               |               100               |               \"))\n",
        "urdu = float(input(\"Urdu                  |               100               |               \"))\n",
        "isl = float(input(\"Islamiat              |               50                |               \"))\n",
        "\n",
        "\n",
        "total_marks = 450\n",
        "obt_marks = int(math + phy + eng + urdu + isl)\n",
        "\n",
        "percentage = obt_marks / total_marks * 100 \n",
        "\n",
        "if percentage > 79:\n",
        "  grade = \"A1\"\n",
        "elif percentage > 69 and percentage < 79:\n",
        "  grade = \"A\"\n",
        "elif percentage > 59 and percentage < 69:\n",
        "  grade = \"B\"\n",
        "elif percentage > 49 and percentage < 59:\n",
        "  grade = \"C\"\n",
        "elif percentage > 39 and percentage < 49:\n",
        "  grade = \"D\"\n",
        "elif percentage < 39:\n",
        "  grade = \"NO GRADE FAILED!\" \n",
        "elif percentage > 100:\n",
        "  grade = \"ERROR 404\"\n",
        "else:\n",
        "  print(\"something went wrong please try again later\")  \n",
        "  \n",
        "   \n",
        "\n",
        "\n",
        "\n",
        "print(\"-----------------------------------------------------------------------------------------------\")\n",
        "print(\"                      |               \" , total_marks , \"             |              \" , obt_marks)\n",
        "print(\"-----------------------------------------------------------------------------------------------\")\n",
        "print(\"                                                                                                              \")\n",
        "print(\"percentage : \" , percentage , \"%\")\n",
        "print(\"GRADE = \" , grade)"
      ],
      "execution_count": 0,
      "outputs": [
        {
          "output_type": "stream",
          "text": [
            "SUBJECT               |            TOTAL MARKS          |         OBTAINED MARKS \n",
            "-------------------------------------------------------------------------------------------------\n",
            "Mathematics           |               100               |               80\n",
            "Physics               |               100               |               80\n",
            "English               |               100               |               80\n",
            "Urdu                  |               100               |               80\n",
            "Islamiat              |               50                |               40\n",
            "-----------------------------------------------------------------------------------------------\n",
            "                      |                450              |               360\n",
            "-----------------------------------------------------------------------------------------------\n",
            "                                                                                                              \n",
            "percentage :  80.0 %\n",
            "GRADE =  A1\n"
          ],
          "name": "stdout"
        }
      ]
    },
    {
      "cell_type": "code",
      "metadata": {
        "id": "rf5R4d9VZ-JL",
        "colab_type": "code",
        "colab": {}
      },
      "source": [
        "\n"
      ],
      "execution_count": 0,
      "outputs": []
    },
    {
      "cell_type": "code",
      "metadata": {
        "id": "HE2CiM7W3L-M",
        "colab_type": "code",
        "outputId": "0ccef3a2-f1ae-4121-b867-50f9486c4e20",
        "colab": {
          "base_uri": "https://localhost:8080/",
          "height": 51
        }
      },
      "source": [
        "#2\n",
        "\n",
        "num = int(input(\"Enter Number: \"))\n",
        "\n",
        "if num % 2 == 0:\n",
        "    print(num , \"is Even\")\n",
        "else:\n",
        "    print(num , \"is Odd\")"
      ],
      "execution_count": 0,
      "outputs": [
        {
          "output_type": "stream",
          "text": [
            "Enter Number: 3\n",
            "3 is Odd\n"
          ],
          "name": "stdout"
        }
      ]
    },
    {
      "cell_type": "code",
      "metadata": {
        "id": "oLFMLK0C7hL-",
        "colab_type": "code",
        "colab": {}
      },
      "source": [
        "\n"
      ],
      "execution_count": 0,
      "outputs": []
    },
    {
      "cell_type": "code",
      "metadata": {
        "id": "04O7Y7xjujSX",
        "colab_type": "code",
        "outputId": "917c6cff-cbe7-4c8d-c480-f891f7eb9858",
        "colab": {
          "base_uri": "https://localhost:8080/",
          "height": 34
        }
      },
      "source": [
        "#3\n",
        "\n",
        "list1 = [\"ali\" , \"waqas\" , \"zahid\" , \"sami\" , \"muneer\"]\n",
        "print(\"the lenght of the list1 is :\" , len(list1))"
      ],
      "execution_count": 0,
      "outputs": [
        {
          "output_type": "stream",
          "text": [
            "the lenght of the list1 is : 5\n"
          ],
          "name": "stdout"
        }
      ]
    },
    {
      "cell_type": "code",
      "metadata": {
        "id": "b8Cm9yfSvYAb",
        "colab_type": "code",
        "colab": {}
      },
      "source": [
        "\n"
      ],
      "execution_count": 0,
      "outputs": []
    },
    {
      "cell_type": "code",
      "metadata": {
        "id": "6J5IhHSvvc-a",
        "colab_type": "code",
        "outputId": "08a76379-82a8-4ebf-c917-7fee83cf1f47",
        "colab": {
          "base_uri": "https://localhost:8080/",
          "height": 34
        }
      },
      "source": [
        "#4\n",
        "\n",
        "total = 0\n",
        "\n",
        "list1 = [11 , 5 , 17 , 18 , 23]  \n",
        "   \n",
        "for element in range(0, len(list1)): \n",
        "    total = total + list1[element] \n",
        "  \n",
        "print(\"Sum of all elements in given list is: \", total) "
      ],
      "execution_count": 0,
      "outputs": [
        {
          "output_type": "stream",
          "text": [
            "Sum of all elements in given list is:  74\n"
          ],
          "name": "stdout"
        }
      ]
    },
    {
      "cell_type": "code",
      "metadata": {
        "id": "JoBTemaLwRFk",
        "colab_type": "code",
        "colab": {}
      },
      "source": [
        "\n"
      ],
      "execution_count": 0,
      "outputs": []
    },
    {
      "cell_type": "code",
      "metadata": {
        "id": "IOPRqYqTwk_t",
        "colab_type": "code",
        "outputId": "cfea3a9c-737b-4cf1-b786-b4ecac0f1b86",
        "colab": {
          "base_uri": "https://localhost:8080/",
          "height": 34
        }
      },
      "source": [
        "#5 \n",
        "\n",
        "list1 = [10, 20, 4, 45, 99 , 54 , 66]\n",
        "  \n",
        "list1.sort() \n",
        "  \n",
        "print(\"Largest element is:\", list1[-1]) "
      ],
      "execution_count": 0,
      "outputs": [
        {
          "output_type": "stream",
          "text": [
            "Largest element is: 99\n"
          ],
          "name": "stdout"
        }
      ]
    },
    {
      "cell_type": "code",
      "metadata": {
        "id": "dtCNnAusxB4a",
        "colab_type": "code",
        "colab": {}
      },
      "source": [
        "\n"
      ],
      "execution_count": 0,
      "outputs": []
    },
    {
      "cell_type": "code",
      "metadata": {
        "id": "NQG6bt-jxIJr",
        "colab_type": "code",
        "outputId": "a8cc05ec-644b-4c88-a100-85f65e19c5ad",
        "colab": {
          "base_uri": "https://localhost:8080/",
          "height": 34
        }
      },
      "source": [
        "#6\n",
        "\n",
        "a = [1, 1, 2, 3, 5, 8, 13, 21, 34, 55, 89]\n",
        "b = []\n",
        "for elem in a:\n",
        "  if elem > 5:\n",
        "    b.append(elem)\n",
        "\n",
        "print(b)    "
      ],
      "execution_count": 0,
      "outputs": [
        {
          "output_type": "stream",
          "text": [
            "[8, 13, 21, 34, 55, 89]\n"
          ],
          "name": "stdout"
        }
      ]
    },
    {
      "cell_type": "code",
      "metadata": {
        "id": "Kg3B7KE4yqGG",
        "colab_type": "code",
        "outputId": "c539e74c-53f2-4ca8-ca8a-8cb2ec397fa8",
        "colab": {
          "base_uri": "https://localhost:8080/",
          "height": 34
        }
      },
      "source": [
        "print(\"--------------------------------------------------------------------DONE-------------------------------------------------------------------\")"
      ],
      "execution_count": 0,
      "outputs": [
        {
          "output_type": "stream",
          "text": [
            "--------------------------------------------------------------------DONE---------------------------------------------------------------\n"
          ],
          "name": "stdout"
        }
      ]
    },
    {
      "cell_type": "code",
      "metadata": {
        "id": "AFvIsN1IzPxE",
        "colab_type": "code",
        "colab": {}
      },
      "source": [
        ""
      ],
      "execution_count": 0,
      "outputs": []
    }
  ]
}