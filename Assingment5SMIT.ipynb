{
  "nbformat": 4,
  "nbformat_minor": 0,
  "metadata": {
    "colab": {
      "name": "Assingment5SMIT.ipynb",
      "provenance": []
    },
    "kernelspec": {
      "name": "python3",
      "display_name": "Python 3"
    }
  },
  "cells": [
    {
      "cell_type": "markdown",
      "metadata": {
        "id": "0h3_jUgYjKZH",
        "colab_type": "text"
      },
      "source": [
        "#**NAME : Muhammad Ali Khan**\n",
        "#**Teacher Name : Sir Muhammad Ali Mughal**\n",
        "#**Institute Name : Saylani Head Office**\n",
        "#**Python Programming Language**\n",
        "#**Assignment # 5**\n"
      ]
    },
    {
      "cell_type": "code",
      "metadata": {
        "id": "FxxzJgHhYvrS",
        "colab_type": "code",
        "colab": {
          "base_uri": "https://localhost:8080/",
          "height": 51
        },
        "outputId": "bdc9da09-37e6-4239-da91-5103d09e32ce"
      },
      "source": [
        "#1 (Copied)\n",
        "\n",
        "def factorial(n):\n",
        "    if n == 0:\n",
        "        return 1\n",
        "    else:\n",
        "        return n * factorial(n-1)\n",
        "n=int(input(\"Input a number to compute the factiorial : \"))\n",
        "print(factorial(n))\n"
      ],
      "execution_count": 2,
      "outputs": [
        {
          "output_type": "stream",
          "text": [
            "Input a number to compute the factiorial : 9\n",
            "362880\n"
          ],
          "name": "stdout"
        }
      ]
    },
    {
      "cell_type": "code",
      "metadata": {
        "id": "cZqOaszS-Q5Q",
        "colab_type": "code",
        "colab": {
          "base_uri": "https://localhost:8080/",
          "height": 68
        },
        "outputId": "25eb8c05-a773-4a21-f767-c7d07c42d6c8"
      },
      "source": [
        "#2 \n",
        "\n",
        "S = input(\"ENTER A SENTENCE TO CHECK THE PROGRAM :\")\n",
        "\n",
        "lower= 0\n",
        "upper = 0\n",
        "\n",
        "for elem in S:\n",
        "  if(elem.islower()):\n",
        "    lower = lower+1\n",
        "  elif(elem.isupper()):\n",
        "    upper = upper+1\n",
        "\n",
        "print('Lower = ' , lower)\n",
        "print('Upper = ' , upper)\n",
        "\n"
      ],
      "execution_count": 4,
      "outputs": [
        {
          "output_type": "stream",
          "text": [
            "ENTER A SENTENCE TO CHECK THE PROGRAM :A Quick BRown FOx JumpS OVEr A LAzy DOg \n",
            "Lower =  15\n",
            "Upper =  16\n"
          ],
          "name": "stdout"
        }
      ]
    },
    {
      "cell_type": "code",
      "metadata": {
        "id": "LZPSF0wT-oVR",
        "colab_type": "code",
        "outputId": "947e9f8b-39bc-4fe5-f166-d4751eaeb7ee",
        "colab": {
          "base_uri": "https://localhost:8080/",
          "height": 34
        }
      },
      "source": [
        "#3 \n",
        "\n",
        "def checkeven(maxNum):\n",
        "\n",
        "\tevens = []\n",
        " \n",
        "\tfor num in range(20):\n",
        "\t\tif num % 2 == 0:\n",
        "\t\t\tevens.append(num)\n",
        "\t\t\n",
        "\tprint(\"Evens:\", evens)\n",
        "\n",
        "checkeven(20)"
      ],
      "execution_count": 13,
      "outputs": [
        {
          "output_type": "stream",
          "text": [
            "Evens: [0, 2, 4, 6, 8, 10, 12, 14, 16, 18]\n"
          ],
          "name": "stdout"
        }
      ]
    },
    {
      "cell_type": "code",
      "metadata": {
        "id": "hYkc-3aT_w9b",
        "colab_type": "code",
        "colab": {
          "base_uri": "https://localhost:8080/",
          "height": 68
        },
        "outputId": "20acdb52-6512-4a39-d089-b4d45e10137f"
      },
      "source": [
        "#4\n",
        "\n",
        "def palindrom(string):\n",
        "  word = string.split(\" \")\n",
        "  y = \"\"\n",
        "  for z in word:\n",
        "    y += z\n",
        "    if y.lower() == y.lower()[::-1]:\n",
        "      print(word)\n",
        "      print(y)\n",
        "      return f\" True word = {y.lower()}, palindrom = {y.lower()[::-1]}\"\n",
        "    else:\n",
        "        print(word)\n",
        "        print(y)\n",
        "        return f\"False word = {y.lower()}, palindrom = {y.lower()[::-1]}\"\n",
        "palindrom('madam ali sana')        \n"
      ],
      "execution_count": 34,
      "outputs": [
        {
          "output_type": "stream",
          "text": [
            "['madam', 'ali', 'sana']\n",
            "madam\n"
          ],
          "name": "stdout"
        },
        {
          "output_type": "execute_result",
          "data": {
            "text/plain": [
              "' True word = madam, palindrom = madam'"
            ]
          },
          "metadata": {
            "tags": []
          },
          "execution_count": 34
        }
      ]
    },
    {
      "cell_type": "code",
      "metadata": {
        "id": "gLw7_zNjax7k",
        "colab_type": "code",
        "colab": {
          "base_uri": "https://localhost:8080/",
          "height": 34
        },
        "outputId": "380d00ff-72b4-4d26-b0e6-24459e1b98fc"
      },
      "source": [
        "#5\n",
        "\n",
        "def test_prime(n):\n",
        "    if (n==1):\n",
        "        return False\n",
        "    elif (n==2):\n",
        "        return True;\n",
        "    else:\n",
        "        for x in range(2,n):\n",
        "            if(n % x==0):\n",
        "                return False\n",
        "        return True             \n",
        "print(test_prime(11))\n"
      ],
      "execution_count": 38,
      "outputs": [
        {
          "output_type": "stream",
          "text": [
            "True\n"
          ],
          "name": "stdout"
        }
      ]
    },
    {
      "cell_type": "code",
      "metadata": {
        "id": "74aeAAZjcJvB",
        "colab_type": "code",
        "colab": {
          "base_uri": "https://localhost:8080/",
          "height": 629
        },
        "outputId": "274ac426-2251-45cd-bc8b-6673e41ded47"
      },
      "source": [
        "#6\n",
        "\n",
        "User_Shopping_List = []\n",
        "\n",
        "while True:\n",
        "\n",
        "  print(\"Shoping List : \")\n",
        "  for thing in User_Shopping_List:\n",
        "    print(\"=>\" + thing)\n",
        "  \n",
        "  print(\"\\nOptions:\")\n",
        "  print(\"1. add \")\n",
        "  print(\"2. End\")\n",
        "\n",
        "\n",
        "  inp = input(\"Enter Your Choice : \")\n",
        "\n",
        "  if inp == '1':\n",
        "      User_Shopping_List.append(input(\"Write Something To add : \"))  \n",
        "  elif inp == '2':\n",
        "      break    \n",
        "  else:\n",
        "    print('Invalid Comand')\n",
        "\n",
        "  print(\"-----------------------------------------------------------------\")  \n"
      ],
      "execution_count": 49,
      "outputs": [
        {
          "output_type": "stream",
          "text": [
            "Shoping List : \n",
            "\n",
            "Options:\n",
            "1. add \n",
            "2. End\n",
            "Enter Your Choice : 1\n",
            "Write Something To add : daal\n",
            "-----------------------------------------------------------------\n",
            "Shoping List : \n",
            "=>daal\n",
            "\n",
            "Options:\n",
            "1. add \n",
            "2. End\n",
            "Enter Your Choice : 1\n",
            "Write Something To add : chawal\n",
            "-----------------------------------------------------------------\n",
            "Shoping List : \n",
            "=>daal\n",
            "=>chawal\n",
            "\n",
            "Options:\n",
            "1. add \n",
            "2. End\n",
            "Enter Your Choice : 1\n",
            "Write Something To add : ata\n",
            "-----------------------------------------------------------------\n",
            "Shoping List : \n",
            "=>daal\n",
            "=>chawal\n",
            "=>ata\n",
            "\n",
            "Options:\n",
            "1. add \n",
            "2. End\n",
            "Enter Your Choice : 2\n"
          ],
          "name": "stdout"
        }
      ]
    },
    {
      "cell_type": "code",
      "metadata": {
        "id": "Kc9wKWjVcz9L",
        "colab_type": "code",
        "colab": {}
      },
      "source": [
        "\n",
        "  print(\"\\nOptions:\")\n",
        "  print(\"1. add \")\n",
        "  print(\"2. Delete\")\n",
        "  print(\"3. Delete All\")\n",
        "  print(\"4. Quit\")\n",
        "  print(\"Note: Give input in numbers\")"
      ],
      "execution_count": 0,
      "outputs": []
    },
    {
      "cell_type": "code",
      "metadata": {
        "id": "9D_vtjSvi_0x",
        "colab_type": "code",
        "colab": {
          "base_uri": "https://localhost:8080/",
          "height": 34
        },
        "outputId": "816e8c1e-e167-45f1-e785-59b8f9dd0199"
      },
      "source": [
        "print(\"-------------------------------------------------------------ALHAMDULILLAH----------------------------------------------------------\")"
      ],
      "execution_count": 50,
      "outputs": [
        {
          "output_type": "stream",
          "text": [
            "-------------------------------------------------------------ALHAMDULILLAH----------------------------------------------------------\n"
          ],
          "name": "stdout"
        }
      ]
    },
    {
      "cell_type": "code",
      "metadata": {
        "id": "KDphxgNyjHcb",
        "colab_type": "code",
        "colab": {}
      },
      "source": [
        ""
      ],
      "execution_count": 0,
      "outputs": []
    }
  ]
}