{
  "nbformat": 4,
  "nbformat_minor": 0,
  "metadata": {
    "colab": {
      "name": "Assignment4Smit.ipynb",
      "provenance": []
    },
    "kernelspec": {
      "name": "python3",
      "display_name": "Python 3"
    }
  },
  "cells": [
    {
      "cell_type": "code",
      "metadata": {
        "id": "E979ZCFUl56F",
        "colab_type": "code",
        "colab": {
          "base_uri": "https://localhost:8080/",
          "height": 136
        },
        "outputId": "ca8d6dea-dfa9-446a-eb5a-ad29a4926b7a"
      },
      "source": [
        "#1\n",
        "\n",
        "st_info = {\"first_name\" : \"ali\" , \"last_name\" : \"khan\" , \"age\" : 18 , \"live_in\" : \"karachi\"}\n",
        "print(st_info[\"first_name\"])\n",
        "print(st_info[\"last_name\"])\n",
        "print(st_info[\"age\"])\n",
        "print(st_info[\"live_in\"])\n",
        "\n",
        "st_info[\"qualification\"] = \"matric\"\n",
        "\n",
        "print(st_info)\n",
        "\n",
        "st_info[\"qualification\"] = \"higher academic level\"\n",
        "\n",
        "print(st_info)\n",
        "\n",
        "del st_info[\"qualification\"]\n",
        "\n",
        "print(st_info)"
      ],
      "execution_count": 21,
      "outputs": [
        {
          "output_type": "stream",
          "text": [
            "ali\n",
            "khan\n",
            "18\n",
            "karachi\n",
            "{'first_name': 'ali', 'last_name': 'khan', 'age': 18, 'live_in': 'karachi', 'qualification': 'matric'}\n",
            "{'first_name': 'ali', 'last_name': 'khan', 'age': 18, 'live_in': 'karachi', 'qualification': 'higher academic level'}\n",
            "{'first_name': 'ali', 'last_name': 'khan', 'age': 18, 'live_in': 'karachi'}\n"
          ],
          "name": "stdout"
        }
      ]
    },
    {
      "cell_type": "code",
      "metadata": {
        "id": "IjpGqGWYnl93",
        "colab_type": "code",
        "colab": {
          "base_uri": "https://localhost:8080/",
          "height": 68
        },
        "outputId": "339b1a6f-8428-4374-8d86-ee8b6ff622e3"
      },
      "source": [
        "#2\n",
        "\n",
        "cities = {\"karachi\" : {\"country\" : \"pakistan\" , \"population\" : \"15 million\" , \"fact\" : \"It is the Sixth largest city in the world by city population\"} , \n",
        "          \"dehli\" : {\"country\" : \"india\" , \"population\" : \"18 million\" , \"fact\" : \"20% of Delhi's landmass is covered by forests. \"} , \n",
        "          \"beijing\" : {\"country\" : \"china\" , \"population\" : \"21 million\" , \"fact\" : \"Beijing is the second largest city in China\"}\n",
        "          }\n",
        "\n",
        "print(\"karachi = \" , cities[\"karachi\"])\n",
        "print(\"dehli = \" , cities[\"dehli\"])\n",
        "print(\"beijing = \" , cities[\"beijing\"])"
      ],
      "execution_count": 35,
      "outputs": [
        {
          "output_type": "stream",
          "text": [
            "karachi =  {'country': 'pakistan', 'population': '15 million', 'fact': 'It is the Sixth largest city in the world by city population'}\n",
            "dehli =  {'country': 'india', 'population': '18 million', 'fact': \"20% of Delhi's landmass is covered by forests. \"}\n",
            "beijing =  {'country': 'china', 'population': '21 million', 'fact': 'Beijing is the second largest city in China'}\n"
          ],
          "name": "stdout"
        }
      ]
    },
    {
      "cell_type": "code",
      "metadata": {
        "id": "yGyisXJ1pzcL",
        "colab_type": "code",
        "colab": {
          "base_uri": "https://localhost:8080/",
          "height": 51
        },
        "outputId": "fdc2af15-7b7d-4cd1-ae3f-d7c35e35a92c"
      },
      "source": [
        "#3\n",
        "\n",
        "movie_charges = int(input(\"enter your age :\"))\n",
        "if movie_charges <= 3:\n",
        "  print(\"your ticket is free. Enjoy the movie \")\n",
        "elif movie_charges >= 12:\n",
        "  print(\"the price for ticket is $15\")\n",
        "else:\n",
        "  print(\"the price for ticket is $10\")      "
      ],
      "execution_count": 41,
      "outputs": [
        {
          "output_type": "stream",
          "text": [
            "enter your age :11\n",
            "the price for ticket is $10\n"
          ],
          "name": "stdout"
        }
      ]
    },
    {
      "cell_type": "code",
      "metadata": {
        "id": "dCJHWfFXr7A-",
        "colab_type": "code",
        "colab": {
          "base_uri": "https://localhost:8080/",
          "height": 34
        },
        "outputId": "59a6b5e6-ba36-4af0-ad9c-eb92cf81a98b"
      },
      "source": [
        "#4\n",
        "\n",
        "def favorite_book(a):\n",
        "  print(\"one of my favorite book is \" , a)\n",
        "\n",
        "favorite_book(\"class 9 computer science :) \")"
      ],
      "execution_count": 45,
      "outputs": [
        {
          "output_type": "stream",
          "text": [
            "one of my favorite book is  class 9 computer science :) \n"
          ],
          "name": "stdout"
        }
      ]
    },
    {
      "cell_type": "code",
      "metadata": {
        "id": "6xWPkigCsHq9",
        "colab_type": "code",
        "colab": {
          "base_uri": "https://localhost:8080/",
          "height": 251
        },
        "outputId": "37834ed0-7f26-4ea0-b905-de1f30c8587e"
      },
      "source": [
        "#5\n",
        "#ye nhi ho raha \n",
        "\n",
        "\n"
      ],
      "execution_count": 55,
      "outputs": [
        {
          "output_type": "error",
          "ename": "TypeError",
          "evalue": "ignored",
          "traceback": [
            "\u001b[0;31m---------------------------------------------------------------------------\u001b[0m",
            "\u001b[0;31mTypeError\u001b[0m                                 Traceback (most recent call last)",
            "\u001b[0;32m<ipython-input-55-b9879f7c330b>\u001b[0m in \u001b[0;36m<module>\u001b[0;34m()\u001b[0m\n\u001b[1;32m     21\u001b[0m \u001b[0;34m\u001b[0m\u001b[0m\n\u001b[1;32m     22\u001b[0m \u001b[0;32mfor\u001b[0m \u001b[0mnum\u001b[0m \u001b[0;32min\u001b[0m \u001b[0mnumber\u001b[0m\u001b[0;34m:\u001b[0m\u001b[0;34m\u001b[0m\u001b[0;34m\u001b[0m\u001b[0m\n\u001b[0;32m---> 23\u001b[0;31m   \u001b[0mdata\u001b[0m \u001b[0;34m=\u001b[0m \u001b[0mnumber\u001b[0m\u001b[0;34m[\u001b[0m\u001b[0;34m\"s.no :\"\u001b[0m\u001b[0;34m]\u001b[0m \u001b[0;34m+\u001b[0m \u001b[0;34m\" :\"\u001b[0m \u001b[0;34m+\u001b[0m \u001b[0mnumber\u001b[0m\u001b[0;34m[\u001b[0m\u001b[0;34m\"question :\"\u001b[0m\u001b[0;34m]\u001b[0m \u001b[0;34m+\u001b[0m \u001b[0;34m\"\\n guess the number \"\u001b[0m \u001b[0;34m+\u001b[0m \u001b[0;34m\"\\n\"\u001b[0m \u001b[0;34m+\u001b[0m \u001b[0mnumber\u001b[0m\u001b[0;34m[\u001b[0m\u001b[0;34m\"options :\"\u001b[0m\u001b[0;34m]\u001b[0m\u001b[0;34m[\u001b[0m\u001b[0;36m0\u001b[0m\u001b[0;34m]\u001b[0m \u001b[0;34m+\u001b[0m \u001b[0;34m\"\\n\"\u001b[0m \u001b[0;34m+\u001b[0m \u001b[0mnumber\u001b[0m\u001b[0;34m[\u001b[0m\u001b[0;34m\"options :\"\u001b[0m\u001b[0;34m]\u001b[0m\u001b[0;34m[\u001b[0m\u001b[0;36m1\u001b[0m\u001b[0;34m]\u001b[0m \u001b[0;34m+\u001b[0m \u001b[0;34m\"\\n\"\u001b[0m \u001b[0;34m+\u001b[0m \u001b[0mnumber\u001b[0m\u001b[0;34m[\u001b[0m\u001b[0;34m\"options :\"\u001b[0m\u001b[0;34m]\u001b[0m\u001b[0;34m[\u001b[0m\u001b[0;36m2\u001b[0m\u001b[0;34m]\u001b[0m \u001b[0;34m+\u001b[0m \u001b[0;34m\"\\n\"\u001b[0m \u001b[0;34m+\u001b[0m \u001b[0mnumber\u001b[0m\u001b[0;34m[\u001b[0m\u001b[0;34m\"options :\"\u001b[0m\u001b[0;34m]\u001b[0m\u001b[0;34m[\u001b[0m\u001b[0;36m3\u001b[0m\u001b[0;34m]\u001b[0m \u001b[0;34m+\u001b[0m \u001b[0;34m\"\\n\"\u001b[0m\u001b[0;34m\u001b[0m\u001b[0;34m\u001b[0m\u001b[0m\n\u001b[0m\u001b[1;32m     24\u001b[0m   \u001b[0manswer\u001b[0m \u001b[0;34m=\u001b[0m \u001b[0minput\u001b[0m\u001b[0;34m(\u001b[0m\u001b[0mdata\u001b[0m\u001b[0;34m)\u001b[0m\u001b[0;34m\u001b[0m\u001b[0;34m\u001b[0m\u001b[0m\n\u001b[1;32m     25\u001b[0m   \u001b[0;32mif\u001b[0m \u001b[0manswer\u001b[0m \u001b[0;34m==\u001b[0m \u001b[0mnumber\u001b[0m\u001b[0;34m[\u001b[0m\u001b[0;34m\"answer :\"\u001b[0m\u001b[0;34m]\u001b[0m\u001b[0;34m:\u001b[0m\u001b[0;34m\u001b[0m\u001b[0;34m\u001b[0m\u001b[0m\n",
            "\u001b[0;31mTypeError\u001b[0m: list indices must be integers or slices, not str"
          ]
        }
      ]
    },
    {
      "cell_type": "code",
      "metadata": {
        "id": "mVhRp8O7sL29",
        "colab_type": "code",
        "colab": {}
      },
      "source": [
        ""
      ],
      "execution_count": 0,
      "outputs": []
    },
    {
      "cell_type": "code",
      "metadata": {
        "id": "71v2UntcsTo1",
        "colab_type": "code",
        "colab": {}
      },
      "source": [
        ""
      ],
      "execution_count": 0,
      "outputs": []
    },
    {
      "cell_type": "code",
      "metadata": {
        "id": "JffRZh52sVTt",
        "colab_type": "code",
        "colab": {}
      },
      "source": [
        ""
      ],
      "execution_count": 0,
      "outputs": []
    }
  ]
}