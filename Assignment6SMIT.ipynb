{
  "nbformat": 4,
  "nbformat_minor": 0,
  "metadata": {
    "colab": {
      "name": "Assignment6SMIT.ipynb",
      "provenance": []
    },
    "kernelspec": {
      "name": "python3",
      "display_name": "Python 3"
    }
  },
  "cells": [
    {
      "cell_type": "markdown",
      "metadata": {
        "id": "1cu0mpNk9wKc",
        "colab_type": "text"
      },
      "source": [
        "#**NAME : Muhammad Ali Khan**\n",
        "#**Teacher Name : Sir Muhammad Ali Mughal**\n",
        "#**Institute Name : Saylani Mass IT Training Centre**\n",
        "#**Pragram : Python Programming Language**\n",
        "#**Assignment # 6**\n"
      ]
    },
    {
      "cell_type": "markdown",
      "metadata": {
        "id": "upMoT13r_ZMi",
        "colab_type": "text"
      },
      "source": [
        "***Q1: WHAT IS OBJECT ORIENTED PROGRAMMING?***   \n",
        "**ANSWER NO : 1**\n",
        "object oriented programming is an paradigm in which real-world object are each viewed as seperate entities having their own state which is modified only by built-in procedures called methods.    \n",
        "\n",
        "***Q2: List down the Benefits of OOP??***    \n",
        "**ANSWER NO : 2**\n",
        "Following are the benefits of Object Oriented Programming:    \n",
        "1) The proramming gets easy and efficient    \n",
        "2) The class is shareable so codes can be reused.    \n",
        "3) The productivity of a programmers increases.    \n",
        "4) Data is safe and secure with the data abstraction. \n",
        "\n",
        "***Q3: Differentiate between function and method?***    \n",
        "**ANSWER NO : 3**\n",
        "A function is a piece of code that is called by name. It can be passed data to operate on (i.e. the parameters) and can optionally return data (the return value). All data that is passed to a function is explicitly passed. A method is a piece of code that is called by a name that is associated with an object.\n",
        "\n",
        "***Q4: Define the following terms:***    \n",
        "***1. Class***    \n",
        "***2. Object***   \n",
        "***3. Attribute***   \n",
        "***4. Behavior***\n",
        "\n",
        "**ANSWER NO : 4**\n",
        "##**CLASS:**\n",
        "it is a template or blue print about the capability of what  an object can do \n",
        "##**OBJECT:**\n",
        "an object (instance) is an instantiation of class. when class is defined , only the description for the object is defined. therefore, no memory or storage is allocated.\n",
        "##**ATTRIBUTE:**\n",
        "In Object-oriented programming(OOP), classes and objects have attributes. Attributes are data stored inside a class or instance and represent the state or quality of the class or instance. ... One can think of attributes as noun or adjective, while methods are the verb of the class.\n",
        "##**BEHAVIOR:**\n",
        " A class's behavior determines how an instance of that class operates; for example, how it will \"react\" if asked to do something by another class or object or if its internal state changes. Behavior is the only way objects can do anything to themselves or have anything done to them."
      ]
    },
    {
      "cell_type": "code",
      "metadata": {
        "id": "7JmolliigrsG",
        "colab_type": "code",
        "colab": {
          "base_uri": "https://localhost:8080/",
          "height": 782
        },
        "outputId": "295ed931-d330-4537-e78a-bb82167c298b"
      },
      "source": [
        "#Q5 : Write a code in python in which create a class named it Car which have 5 attributes such like (model, color and name etc.) and 3 methods. And create 5 object instance from that class.\n",
        "\n",
        "#ANSWER NO : 5\n",
        "\n",
        "\n",
        "class CAR():\n",
        "  def __init__(self, Model , Name , Colour , Speed_Limit , Company):\n",
        "    self.model = Model \n",
        "    self.name = Name\n",
        "    self.colour = Colour\n",
        "    self.speed_limit = Speed_Limit \n",
        "    self.company = Company \n",
        "\n",
        "  def updatemodel(self , newModel):\n",
        "      self.model = newModel\n",
        "  def updatespeed(self , speedlimit):\n",
        "      self.speed_limit = speedlimit    \n",
        "  def updatecolour(self , newcolour):\n",
        "      self.new_colour = newcolour    \n",
        "    \n",
        "car1 = CAR('Civic Prosmetic' , 'Civic' , 'Black' , 240  , 'Honda')\n",
        "print(\"\\n\")\n",
        "print(car1)\n",
        "print('\\nCompany Name : ' , car1.company)\n",
        "print('Name : ' , car1.name)\n",
        "print('Model : ' , car1.model)\n",
        "print('Speed limit : ' , car1.speed_limit , 'kph')\n",
        "print('Colour : ' , car1.colour)\n",
        "\n",
        "car2 = CAR('Civic Prosmetic' , 'Civic' , 'Black' , '240 Kph' , 'Honda')\n",
        "print(\"\\n\")\n",
        "print(car2)\n",
        "car2.updatemodel('Civic VTi Oriel Prosmatec')\n",
        "print('\\nCompany Name : ' , car2.company)\n",
        "print('Name : ' , car2.name)\n",
        "print('Model : ' , car2.model)\n",
        "print('Speed limit : ' , car2.speed_limit , 'kph')\n",
        "print('Colour : ' , car2.colour)\n",
        "\n",
        "car3 = CAR('Civic Prosmetic' , 'Civic' , 'Black' , '240 Kph' , 'Honda')\n",
        "print(\"\\n\")\n",
        "print(car3)\n",
        "print('\\nCompany Name : ' , car3.company)\n",
        "print('Name : ' , car3.name)\n",
        "print('Model : ' , car3.model)\n",
        "car3.updatespeed(400)\n",
        "print('Speed limit : ' , car3.speed_limit , 'kph')\n",
        "print('Colour : ' , car3.colour)\n",
        "\n",
        "car4 = CAR('Civic Prosmetic' , 'Civic' , 'Black' , '240 Kph' , 'Honda')\n",
        "print(\"\\n\")\n",
        "print(car4)\n",
        "print('\\nCompany Name : ' , car4.company)\n",
        "print('Name : ' , car4.name)\n",
        "print('Model : ' , car4.model)\n",
        "print('Speed limit : ' , car4.speed_limit , 'kph')\n",
        "car4.updatecolour('White')\n",
        "print('Colour : ' , car4.new_colour)\n",
        "\n",
        "car5 = CAR('Civic Prosmetic' , 'Civic' , 'Black' , '240 Kph' , 'Honda')\n",
        "print(\"\\n\")\n",
        "print(car5)\n",
        "car5.updatemodel('Civic Turbo 1.5')\n",
        "print('\\nCompany Name : ' , car5.company)\n",
        "print('Name : ' , car5.name)\n",
        "print('Model : ' , car5.model)\n",
        "car5.updatespeed(600)\n",
        "print('Speed limit : ' , car5.speed_limit)\n",
        "car5.updatecolour('Red')\n",
        "print('Colour : ' , car5.new_colour)\n"
      ],
      "execution_count": 6,
      "outputs": [
        {
          "output_type": "stream",
          "text": [
            "\n",
            "\n",
            "<__main__.CAR object at 0x7fb3baf9f780>\n",
            "\n",
            "Company Name :  Honda\n",
            "Name :  Civic\n",
            "Model :  Civic Prosmetic\n",
            "Speed limit :  240 kph\n",
            "Colour :  Black\n",
            "\n",
            "\n",
            "<__main__.CAR object at 0x7fb3baf9fcf8>\n",
            "\n",
            "Company Name :  Honda\n",
            "Name :  Civic\n",
            "Model :  Civic VTi Oriel Prosmatec\n",
            "Speed limit :  240 Kph kph\n",
            "Colour :  Black\n",
            "\n",
            "\n",
            "<__main__.CAR object at 0x7fb3baf757b8>\n",
            "\n",
            "Company Name :  Honda\n",
            "Name :  Civic\n",
            "Model :  Civic Prosmetic\n",
            "Speed limit :  400 kph\n",
            "Colour :  Black\n",
            "\n",
            "\n",
            "<__main__.CAR object at 0x7fb3baf9fa58>\n",
            "\n",
            "Company Name :  Honda\n",
            "Name :  Civic\n",
            "Model :  Civic Prosmetic\n",
            "Speed limit :  240 Kph kph\n",
            "Colour :  White\n",
            "\n",
            "\n",
            "<__main__.CAR object at 0x7fb3baf9ff28>\n",
            "\n",
            "Company Name :  Honda\n",
            "Name :  Civic\n",
            "Model :  Civic Turbo 1.5\n",
            "Speed limit :  600\n",
            "Colour :  Red\n"
          ],
          "name": "stdout"
        }
      ]
    },
    {
      "cell_type": "code",
      "metadata": {
        "id": "oHXerhL9pUC7",
        "colab_type": "code",
        "colab": {
          "base_uri": "https://localhost:8080/",
          "height": 54
        },
        "outputId": "9ddded8b-720d-4536-ac90-21403b0a76dd"
      },
      "source": [
        "print('-----------------------------------------------------ALHAMD-U-LILLAH DONE------------------------------------------------------------------------')\n",
        "\n"
      ],
      "execution_count": 8,
      "outputs": [
        {
          "output_type": "stream",
          "text": [
            "-----------------------------------------------------ALHAMD-U-LILLAH DONE------------------------------------------------------------------------\n"
          ],
          "name": "stdout"
        }
      ]
    },
    {
      "cell_type": "code",
      "metadata": {
        "id": "41pZkUVrtfnT",
        "colab_type": "code",
        "colab": {}
      },
      "source": [
        ""
      ],
      "execution_count": 0,
      "outputs": []
    }
  ]
}